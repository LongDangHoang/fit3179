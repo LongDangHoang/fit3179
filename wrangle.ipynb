{
 "cells": [
  {
   "cell_type": "code",
   "execution_count": 46,
   "metadata": {},
   "outputs": [],
   "source": [
    "import pandas as pd\n",
    "\n",
    "pd.set_option('display.max_columns', None)\n",
    "all_df = pd.read_csv('./data/Production_Crops_Livestock_E_All_Data/Production_Crops_Livestock_E_All_Data_NOFLAG.csv', encoding=\"ISO-8859-1\")\n",
    "area_code_df = pd.read_csv('./data/Production_Crops_Livestock_E_All_Data/Production_Crops_Livestock_E_AreaCodes.csv')\n",
    "\n",
    "code_to_name_dict = area_code_df[['Area Code', 'Area']].set_index('Area Code').to_dict()['Area']\n",
    "all_df.loc[:, 'Area'] = all_df['Area Code'].replace(code_to_name_dict)\n",
    "lat_lon = pd.read_csv('./data/world_country_and_usa_states_latitude_and_longitude_values.csv')\n",
    "population = pd.read_csv('./data/population_by_country.csv')\n",
    "\n",
    "def make_year_cols(start, end):\n",
    "    return [f'Y{y}' for y in range(start, end)]"
   ]
  },
  {
   "cell_type": "code",
   "execution_count": 47,
   "metadata": {},
   "outputs": [],
   "source": [
    "all_df = all_df.merge(\n",
    "    lat_lon[['latitude', 'longitude', 'country']],\n",
    "    how='left',\n",
    "    left_on='Area',\n",
    "    right_on='country',\n",
    ")\n",
    "\n",
    "all_df = all_df.melt(\n",
    "    id_vars=['Area', 'Area Code', \"longitude\", \"latitude\", 'Item', 'Item Code', 'Element', 'Unit'], \n",
    "    value_vars=make_year_cols(2000, 2021), \n",
    "    value_name='Quantity', \n",
    "    var_name='Year'\n",
    ")\n",
    "\n",
    "all_df['Year'] = all_df['Year'].str.strip('Y').astype(int)"
   ]
  },
  {
   "cell_type": "code",
   "execution_count": 48,
   "metadata": {},
   "outputs": [],
   "source": [
    "population = population.melt(\n",
    "    id_vars=['Country Name'],\n",
    "    value_vars=[str(y) for y in range(2000, 2021)],\n",
    "    value_name='Population',\n",
    "    var_name='Year',\n",
    ")\n",
    "\n",
    "population['Year'] = population['Year'].astype(int)"
   ]
  },
  {
   "cell_type": "code",
   "execution_count": 49,
   "metadata": {},
   "outputs": [],
   "source": [
    "all_df = pd.merge(\n",
    "    all_df, population,\n",
    "    how='left',\n",
    "    left_on=['Area', 'Year'],\n",
    "    right_on=['Country Name', 'Year']\n",
    ")"
   ]
  },
  {
   "cell_type": "markdown",
   "metadata": {},
   "source": [
    "# check country name"
   ]
  },
  {
   "cell_type": "code",
   "execution_count": 24,
   "metadata": {},
   "outputs": [],
   "source": [
    "with open('./data/ne_110m.json', 'r') as f:\n",
    "    text = f.read()"
   ]
  },
  {
   "cell_type": "code",
   "execution_count": null,
   "metadata": {},
   "outputs": [],
   "source": [
    "for country_name in all_df['Area'].unique():\n",
    "    if text.find('\"NAME\":\"{}\"'.format(country_name)) == -1:\n",
    "        print(country_name)\n"
   ]
  },
  {
   "cell_type": "markdown",
   "metadata": {},
   "source": [
    "# wrangle file"
   ]
  },
  {
   "cell_type": "code",
   "execution_count": 38,
   "metadata": {},
   "outputs": [],
   "source": [
    "df = all_df[\n",
    "    (all_df['Item'].str.endswith('Total')) &\\\n",
    "    (all_df['Area Code'] <= 300) &\\\n",
    "    (all_df['Element'].isin(['Production']))\n",
    "].dropna(\n",
    "  axis=0,\n",
    "  how='any',\n",
    "  subset=['latitude', 'longitude', 'Population']\n",
    ")\n",
    "\n",
    "df.to_csv('data/processed/production_major_categories_per_country_2000-2020.csv')"
   ]
  },
  {
   "cell_type": "code",
   "execution_count": null,
   "metadata": {},
   "outputs": [],
   "source": [
    "df = all_df[\n",
    "    (all_df['Item'].str.endswith('Total')) &\\\n",
    "    (all_df['Area Code'] <= 300) &\\\n",
    "    (all_df['Element'].isin(['Yield']))\n",
    "].dropna(\n",
    "  axis=0,\n",
    "  how='any',\n",
    "  subset=['latitude', 'longitude', 'Population']\n",
    ")\n",
    "\n",
    "df.to_csv('data/processed/yield_major_categories_per_country_2000-2020.csv')"
   ]
  },
  {
   "cell_type": "code",
   "execution_count": 44,
   "metadata": {},
   "outputs": [],
   "source": [
    "df = all_df[\n",
    "    (~all_df['Item'].str.endswith('Total')) &\\\n",
    "    (all_df[\"Element\"] == \"Production\")\n",
    "].dropna(\n",
    "  axis=0,\n",
    "  how='any',\n",
    "  subset=['latitude', 'longitude', 'Population']\n",
    ").groupby([\"Item\", \"Year\", \"Unit\"])[[\"Quantity\"]]\\\n",
    " .sum()\\\n",
    " .reset_index()\n",
    "\n",
    "df.to_csv('./data/processed/production_all_category_2000_2020.csv')"
   ]
  },
  {
   "cell_type": "code",
   "execution_count": 61,
   "metadata": {},
   "outputs": [
    {
     "data": {
      "text/html": [
       "<div>\n",
       "<style scoped>\n",
       "    .dataframe tbody tr th:only-of-type {\n",
       "        vertical-align: middle;\n",
       "    }\n",
       "\n",
       "    .dataframe tbody tr th {\n",
       "        vertical-align: top;\n",
       "    }\n",
       "\n",
       "    .dataframe thead th {\n",
       "        text-align: right;\n",
       "    }\n",
       "</style>\n",
       "<table border=\"1\" class=\"dataframe\">\n",
       "  <thead>\n",
       "    <tr style=\"text-align: right;\">\n",
       "      <th></th>\n",
       "      <th>first code digit</th>\n",
       "      <th>Item</th>\n",
       "    </tr>\n",
       "  </thead>\n",
       "  <tbody>\n",
       "    <tr>\n",
       "      <th>49381</th>\n",
       "      <td>1</td>\n",
       "      <td>Butter of goat milk</td>\n",
       "    </tr>\n",
       "    <tr>\n",
       "      <th>202</th>\n",
       "      <td>1</td>\n",
       "      <td>Citrus Fruit, Total</td>\n",
       "    </tr>\n",
       "    <tr>\n",
       "      <th>201</th>\n",
       "      <td>1</td>\n",
       "      <td>Cheese (All Kinds)</td>\n",
       "    </tr>\n",
       "    <tr>\n",
       "      <th>198</th>\n",
       "      <td>1</td>\n",
       "      <td>Cereals, Total</td>\n",
       "    </tr>\n",
       "    <tr>\n",
       "      <th>197</th>\n",
       "      <td>1</td>\n",
       "      <td>Cattle and Buffaloes</td>\n",
       "    </tr>\n",
       "    <tr>\n",
       "      <th>...</th>\n",
       "      <td>...</td>\n",
       "      <td>...</td>\n",
       "    </tr>\n",
       "    <tr>\n",
       "      <th>26</th>\n",
       "      <td>9</td>\n",
       "      <td>Cheese from milk of sheep, fresh or processed</td>\n",
       "    </tr>\n",
       "    <tr>\n",
       "      <th>169</th>\n",
       "      <td>9</td>\n",
       "      <td>Sheep fat, unrendered</td>\n",
       "    </tr>\n",
       "    <tr>\n",
       "      <th>16</th>\n",
       "      <td>9</td>\n",
       "      <td>Butter and ghee of sheep milk</td>\n",
       "    </tr>\n",
       "    <tr>\n",
       "      <th>5859</th>\n",
       "      <td>9</td>\n",
       "      <td>Quinoa</td>\n",
       "    </tr>\n",
       "    <tr>\n",
       "      <th>456</th>\n",
       "      <td>9</td>\n",
       "      <td>Raw milk of buffalo</td>\n",
       "    </tr>\n",
       "  </tbody>\n",
       "</table>\n",
       "<p>300 rows × 2 columns</p>\n",
       "</div>"
      ],
      "text/plain": [
       "      first code digit                                           Item\n",
       "49381                1                            Butter of goat milk\n",
       "202                  1                            Citrus Fruit, Total\n",
       "201                  1                             Cheese (All Kinds)\n",
       "198                  1                                 Cereals, Total\n",
       "197                  1                           Cattle and Buffaloes\n",
       "...                ...                                            ...\n",
       "26                   9  Cheese from milk of sheep, fresh or processed\n",
       "169                  9                          Sheep fat, unrendered\n",
       "16                   9                  Butter and ghee of sheep milk\n",
       "5859                 9                                         Quinoa\n",
       "456                  9                            Raw milk of buffalo\n",
       "\n",
       "[300 rows x 2 columns]"
      ]
     },
     "execution_count": 61,
     "metadata": {},
     "output_type": "execute_result"
    }
   ],
   "source": [
    "f = all_df['Item Code'].astype(str).str.slice(0, 1)\n",
    "all_df['first code digit'] = f \n"
   ]
  },
  {
   "cell_type": "code",
   "execution_count": 64,
   "metadata": {},
   "outputs": [
    {
     "data": {
      "text/plain": [
       "array(['Asses', 'Camels', 'Cheese from milk of goats, fresh or processed',\n",
       "       'Chickens', 'Edible offal of goat, fresh, chilled or frozen',\n",
       "       'Edible offals of camels and other camelids, fresh, chilled or frozen',\n",
       "       'Fat of camels', 'Game meat, fresh, chilled or frozen',\n",
       "       'Goat fat, unrendered', 'Goats', 'Hen eggs in shell, fresh',\n",
       "       'Horses', 'Meat of camels, fresh or chilled',\n",
       "       'Meat of chickens, fresh or chilled',\n",
       "       'Meat of goat, fresh or chilled', 'Molasses', 'Mules and hinnies',\n",
       "       'Natural honey', 'Potatoes',\n",
       "       'Raw cane or beet sugar (centrifugal only)',\n",
       "       'Raw hides and skins of goats or kids', 'Raw milk of camel',\n",
       "       'Raw milk of goats', 'Raw silk (not thrown)',\n",
       "       'Silk-worm cocoons suitable for reeling', 'Sugar beet',\n",
       "       'Sugar cane', 'Wheat', 'Beef and Buffalo Meat', 'Butter and Ghee',\n",
       "       'Cattle and Buffaloes', 'Cereals, Total', 'Cheese (All Kinds)',\n",
       "       'Citrus Fruit, Total', 'Eggs Primary', 'Fruit Primary',\n",
       "       'Meat, Poultry', 'Meat, Total', 'Milk, Total',\n",
       "       'Oilcrops, Cake Equivalent', 'Oilcrops, Oil Equivalent',\n",
       "       'Pulses, Total', 'Roots and Tubers, Total', 'Sheep and Goat Meat',\n",
       "       'Sheep and Goats', 'Sugar Crops Primary', 'Treenuts, Total',\n",
       "       'Vegetables Primary', 'Beans, dry', 'Bees', 'Beeswax',\n",
       "       'Broad beans and horse beans, dry', 'Ducks',\n",
       "       'Edible offal of pigs, fresh, chilled or frozen',\n",
       "       'Edible offals of horses and other equines,  fresh, chilled or frozen',\n",
       "       'Eggs from other birds in shell, fresh, n.e.c.', 'Fat of pigs',\n",
       "       'Geese', 'Horse meat, fresh or chilled',\n",
       "       'Margarine and shortening',\n",
       "       'Meat of pig with the bone, fresh or chilled',\n",
       "       'Meat of turkeys, fresh or chilled',\n",
       "       'Other meat n.e.c. (excluding mammals), fresh, chilled or frozen',\n",
       "       'Swine / pigs', 'Turkeys', 'Chick peas, dry',\n",
       "       'Meat of rabbits and hares, fresh or chilled', 'Peas, dry',\n",
       "       'Rabbits and hares', 'Cassava, fresh', 'Pig fat, rendered',\n",
       "       'Sweet potatoes', 'Taro', 'Yams', 'Canary seed', 'Cereals n.e.c.',\n",
       "       'Meat of asses, fresh or chilled',\n",
       "       'Meat of ducks, fresh or chilled',\n",
       "       'Meat of geese, fresh or chilled',\n",
       "       'Meat of mules, fresh or chilled', 'Tallow',\n",
       "       'Evaporat&Condensed Milk', 'Skim Milk&Buttermilk,Dry',\n",
       "       'Cow peas, dry', 'Mixed grain', 'Pigeon peas, dry',\n",
       "       'Other sugar crops n.e.c.',\n",
       "       'Edible roots and tubers with high starch or inulin content, n.e.c., fresh',\n",
       "       'Yautia', 'Meat of other domestic camelids, fresh or chilled',\n",
       "       'Meat of other domestic rodents, fresh or chilled',\n",
       "       'Other camelids', 'Other rodents',\n",
       "       'Meat of pigeons and other birds n.e.c., fresh, chilled or frozen',\n",
       "       'Snails, fresh, chilled, frozen, dried, salted or in brine, except sea snails',\n",
       "       'Butter of goat milk'], dtype=object)"
      ]
     },
     "execution_count": 64,
     "metadata": {},
     "output_type": "execute_result"
    }
   ],
   "source": [
    "all_df[all_df['first code digit'] == '1']['Item'].unique()"
   ]
  },
  {
   "cell_type": "code",
   "execution_count": null,
   "metadata": {},
   "outputs": [],
   "source": [
    "1) CROPS PRIMARY:\n",
    "['Cereals',' Citrus Fruit',' Fibre Crops', 'Fruit', 'Oil Crops', 'Oil Crops and Cakes in Oil Equivalent',' Pulses',' Roots and Tubers',' Sugar Crops',' Treenuts and Vegetables']\n",
    "2) CROPS PROCESSED:\n",
    "Beer of barley; Cotton lint; Cottonseed; Margarine, short; Molasses; Oil, coconut (copra); Oil, cottonseed; Oil, groundnut; Oil, linseed; Oil, maize; Oil, olive, virgin; Oil, palm; Oil, palm kernel; Oil, rapeseed; Oil, safflower; Oil, sesame; Oil, soybean; Oil, sunflower; Palm kernels; Sugar Raw Centrifugal; Wine.\n",
    "3) LIVE ANIMALS: Animals live n.e.s.; Asses; Beehives; Buffaloes; Camelids, other; Camels; Cattle; Chickens; Ducks; Geese and guinea fowls; Goats; Horses; Mules; Pigeons, other birds; Pigs; Rabbits and hares; Rodents, other; Sheep; Turkeys.\n",
    "4) LIVESTOCK PRIMARY: Beeswax; Eggs (various types); Hides buffalo, fresh; Hides, cattle, fresh; Honey, natural; Meat (ass, bird nes, buffalo, camel, cattle, chicken, duck, game, goat, goose and guinea fowl, horse, mule, Meat nes, meat other camelids, Meat other rodents, pig, rabbit, sheep, turkey); Milk (buffalo, camel, cow, goat, sheep); Offals, nes; Silk-worm cocoons, reelable; Skins (goat, sheep); Snails, not sea; Wool, greasy.\n",
    "5) LIVESTOCK PROCESSED: Butter (of milk from sheep, goat, buffalo, cow); Cheese (of milk from goat, buffalo, sheep, cow milk); Cheese of skimmed cow milk; Cream fresh; Ghee (cow and buffalo milk); Lard; Milk (dry buttermilk, skimmed condensed, skimmed cow, skimmed dried, skimmed evaporated, whole condensed, whole dried, whole evaporated); Silk raw; Tallow; Whey (condensed and dry); Yoghurt"
   ]
  },
  {
   "cell_type": "code",
   "execution_count": 69,
   "metadata": {},
   "outputs": [
    {
     "data": {
      "text/plain": [
       "array(['Eggs Primary', 'Fruit Primary', 'Sugar Crops Primary',\n",
       "       'Vegetables Primary'], dtype=object)"
      ]
     },
     "execution_count": 69,
     "metadata": {},
     "output_type": "execute_result"
    }
   ],
   "source": [
    "all_df[all_df['Item'].str.endswith('Primary')][\"Item\"].unique()"
   ]
  },
  {
   "cell_type": "code",
   "execution_count": null,
   "metadata": {},
   "outputs": [],
   "source": []
  }
 ],
 "metadata": {
  "kernelspec": {
   "display_name": "Python 3.9.12 ('base')",
   "language": "python",
   "name": "python3"
  },
  "language_info": {
   "codemirror_mode": {
    "name": "ipython",
    "version": 3
   },
   "file_extension": ".py",
   "mimetype": "text/x-python",
   "name": "python",
   "nbconvert_exporter": "python",
   "pygments_lexer": "ipython3",
   "version": "3.9.12"
  },
  "orig_nbformat": 4,
  "vscode": {
   "interpreter": {
    "hash": "83ba8c25ac7bdcad8fa6ab945f509c99c516dc83a4d0f1a4152a0c57e3660ca0"
   }
  }
 },
 "nbformat": 4,
 "nbformat_minor": 2
}
