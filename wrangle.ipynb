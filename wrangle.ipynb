{
 "cells": [
  {
   "cell_type": "code",
   "execution_count": 1,
   "metadata": {},
   "outputs": [],
   "source": [
    "import pandas as pd\n",
    "\n",
    "pd.set_option('display.max_columns', None)\n",
    "all_df = pd.read_csv('./data/Production_Crops_Livestock_E_All_Data/Production_Crops_Livestock_E_All_Data_NOFLAG.csv', encoding=\"ISO-8859-1\")\n",
    "area_code_df = pd.read_csv('./data/Production_Crops_Livestock_E_All_Data/Production_Crops_Livestock_E_AreaCodes.csv')\n",
    "\n",
    "code_to_name_dict = area_code_df[['Area Code', 'Area']].set_index('Area Code').to_dict()['Area']\n",
    "all_df.loc[:, 'Area'] = all_df['Area Code'].replace(code_to_name_dict)\n",
    "lat_lon = pd.read_csv('./data/world_country_and_usa_states_latitude_and_longitude_values.csv')"
   ]
  },
  {
   "cell_type": "code",
   "execution_count": 2,
   "metadata": {},
   "outputs": [],
   "source": [
    "all_df = all_df.merge(\n",
    "    lat_lon[['latitude', 'longitude', 'country']],\n",
    "    how='left',\n",
    "    left_on='Area',\n",
    "    right_on='country',\n",
    ")"
   ]
  },
  {
   "cell_type": "code",
   "execution_count": 3,
   "metadata": {},
   "outputs": [],
   "source": [
    "def make_year_cols(start, end):\n",
    "    return [f'Y{y}' for y in range(start, end)]"
   ]
  },
  {
   "cell_type": "code",
   "execution_count": 13,
   "metadata": {},
   "outputs": [
    {
     "data": {
      "text/plain": [
       "array(['Cereals, Total', 'Citrus Fruit, Total', 'Meat, Total',\n",
       "       'Milk, Total', 'Pulses, Total', 'Roots and Tubers, Total',\n",
       "       'Treenuts, Total'], dtype=object)"
      ]
     },
     "execution_count": 13,
     "metadata": {},
     "output_type": "execute_result"
    }
   ],
   "source": [
    "all_df[all_df['Item'].str.endswith('Total')]['Item'].unique()"
   ]
  },
  {
   "cell_type": "markdown",
   "metadata": {},
   "source": [
    "# check country name"
   ]
  },
  {
   "cell_type": "code",
   "execution_count": 24,
   "metadata": {},
   "outputs": [],
   "source": [
    "with open('./data/ne_110m.json', 'r') as f:\n",
    "    text = f.read()"
   ]
  },
  {
   "cell_type": "code",
   "execution_count": 25,
   "metadata": {},
   "outputs": [
    {
     "name": "stdout",
     "output_type": "stream",
     "text": [
      "Antigua and Barbuda\n",
      "Bahrain\n",
      "Barbados\n",
      "Belgium-Luxembourg\n",
      "Cabo Verde\n",
      "China; (including Taiwan)\n",
      "China; Hong Kong SAR\n",
      "China; Macao SAR\n",
      "Comoros\n",
      "Cook Islands\n",
      "Czechoslovakia\n",
      "Dominica\n",
      "Eswatini\n",
      "Ethiopia PDR\n",
      "Faroe Islands\n",
      "French Guyana\n",
      "French Polynesia\n",
      "Grenada\n",
      "Guadeloupe\n",
      "Kiribati\n",
      "Maldives\n",
      "Malta\n",
      "Marshall Islands\n",
      "Martinique\n",
      "Mauritius\n",
      "Micronesia (Federated States of)\n",
      "Nauru\n",
      "Niue\n",
      "R�union\n",
      "Saint Kitts and Nevis\n",
      "Saint Lucia\n",
      "Saint Vincent and the Grenadines\n",
      "Samoa\n",
      "Sao Tome and Principe\n",
      "Serbia and Montenegro\n",
      "Seychelles\n",
      "Singapore\n",
      "South Sudan\n",
      "Sudan (former)\n",
      "Tokelau\n",
      "Tonga\n",
      "Tuvalu\n",
      "USSR\n",
      "Yugoslav SFR\n",
      "World\n",
      "Africa\n",
      "Eastern Africa\n",
      "Middle Africa\n",
      "Northern Africa\n",
      "Southern Africa\n",
      "Western Africa\n",
      "Americas\n",
      "Northern America\n",
      "Central America\n",
      "Caribbean\n",
      "South America\n",
      "Asia\n",
      "Central Asia\n",
      "Eastern Asia\n",
      "Southern Asia\n",
      "South-eastern Asia\n",
      "Western Asia\n",
      "Europe\n",
      "Eastern Europe\n",
      "Northern Europe\n",
      "Southern Europe\n",
      "Western Europe\n",
      "Oceania\n",
      "Australia and New Zealand\n",
      "Melanesia\n",
      "Micronesia\n",
      "Polynesia\n",
      "European Union (27)\n",
      "Least Developed Countries\n",
      "Land Locked Developing Countries\n",
      "Small Island Developing States\n",
      "Low Income Food Deficit Countries\n",
      "Net Food Importing Developing Countries\n"
     ]
    }
   ],
   "source": [
    "for country_name in all_df['Area'].unique():\n",
    "    if text.find('\"NAME\":\"{}\"'.format(country_name)) == -1:\n",
    "        print(country_name)\n"
   ]
  },
  {
   "cell_type": "markdown",
   "metadata": {},
   "source": [
    "# wrangle file"
   ]
  },
  {
   "cell_type": "markdown",
   "metadata": {},
   "source": [
    "Map of productiono of cereal"
   ]
  },
  {
   "cell_type": "code",
   "execution_count": 15,
   "metadata": {},
   "outputs": [],
   "source": [
    "df = all_df[\n",
    "    (all_df['Item'].str.endswith('Total')) &\\\n",
    "    (all_df['Area Code'] <= 300) &\\\n",
    "    (all_df['Element'].isin(['Yield']))\n",
    "][\n",
    "    ['Area', \"longitude\", \"latitude\", 'Item', 'Element', 'Unit']\n",
    "  + make_year_cols(2000, 2021)\n",
    "].dropna(axis=0, how='any', subset=['latitude', 'longitude'])\\\n",
    "  .melt(\n",
    "    id_vars=['Area', \"longitude\", \"latitude\", 'Item', 'Element', 'Unit'], \n",
    "    value_vars=make_year_cols(2000, 2021), \n",
    "    value_name='Quantity', \n",
    "    var_name='Year'\n",
    ")\n",
    "\n",
    "df['Year'] = df['Year'].str.strip('Y')\n",
    "df.to_csv('data/processed/yield_major_categories_per_country_2000-2020.csv')"
   ]
  },
  {
   "cell_type": "code",
   "execution_count": 23,
   "metadata": {},
   "outputs": [
    {
     "data": {
      "text/plain": [
       "count      3612.000000\n",
       "mean      33372.773533\n",
       "std       29635.836714\n",
       "min        1526.000000\n",
       "25%       15032.000000\n",
       "50%       27397.500000\n",
       "75%       43079.250000\n",
       "max      367619.000000\n",
       "Name: Quantity, dtype: float64"
      ]
     },
     "execution_count": 23,
     "metadata": {},
     "output_type": "execute_result"
    }
   ],
   "source": [
    "df[df['Element'] == 'Yield']['Quantity'].describe()"
   ]
  }
 ],
 "metadata": {
  "kernelspec": {
   "display_name": "Python 3.9.12 ('base')",
   "language": "python",
   "name": "python3"
  },
  "language_info": {
   "codemirror_mode": {
    "name": "ipython",
    "version": 3
   },
   "file_extension": ".py",
   "mimetype": "text/x-python",
   "name": "python",
   "nbconvert_exporter": "python",
   "pygments_lexer": "ipython3",
   "version": "3.9.12"
  },
  "orig_nbformat": 4,
  "vscode": {
   "interpreter": {
    "hash": "83ba8c25ac7bdcad8fa6ab945f509c99c516dc83a4d0f1a4152a0c57e3660ca0"
   }
  }
 },
 "nbformat": 4,
 "nbformat_minor": 2
}
