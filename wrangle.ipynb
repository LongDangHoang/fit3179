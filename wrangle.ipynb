{
 "cells": [
  {
   "cell_type": "code",
   "execution_count": 473,
   "metadata": {},
   "outputs": [],
   "source": [
    "import pandas as pd\n",
    "import json\n",
    "\n",
    "pd.set_option('display.max_columns', None)\n",
    "all_df = pd.read_csv('./data/Production_Crops_Livestock_E_All_Data/Production_Crops_Livestock_E_All_Data_NOFLAG.csv', encoding=\"ISO-8859-1\", keep_default_na=False, dtype={'Item Code': str})\n",
    "lat_lon_code = pd.read_csv('./data/world_country_and_usa_states_latitude_and_longitude_values.csv', keep_default_na=False)\n",
    "\n",
    "lat_lon_code = pd.read_csv('./data/world_country_and_usa_states_latitude_and_longitude_values.csv')\n",
    "lat_lon_code = lat_lon_code.sort_values(by=['Country']).drop_duplicates(subset=['Alpha-2 code'])\n",
    "lat_lon_code.loc[:, \"Numeric code\"] = lat_lon_code[\"Numeric code\"].str.strip(' \"').astype(int)\n",
    "lat_lon_code.loc[:, \"Alpha-2 code\"] = lat_lon_code[\"Alpha-2 code\"].str.strip(' \"')\n",
    "lat_lon_code.loc[:, \"Alpha-3 code\"] = lat_lon_code[\"Alpha-3 code\"].str.strip(' \"')\n",
    "lat_lon_code.loc[:, \"Latitude (average)\"] = lat_lon_code[\"Latitude (average)\"].str.strip(' \"').astype(float)\n",
    "lat_lon_code.loc[:, \"Longitude (average)\"] = lat_lon_code[\"Longitude (average)\"].str.strip(' \"').astype(float)\n",
    "area_code_to_iso_dict = lat_lon_code[[\"Numeric code\", \"Alpha-2 code\"]].set_index(\"Numeric code\")['Alpha-2 code'].to_dict()\n",
    "\n",
    "all_df.loc[:, 'Area Code (M49)'] = all_df['Area Code (M49)'].str.strip(\" '\").astype(int)\n",
    "all_df.loc[:, 'ISO-A2'] = all_df['Area Code (M49)'].replace(area_code_to_iso_dict)\n",
    "all_df = all_df[all_df['ISO-A2'].isin(lat_lon_code['Alpha-2 code'])]\n",
    "\n",
    "def make_year_cols(start, end):\n",
    "    return [f'Y{y}' for y in range(start, end)]"
   ]
  },
  {
   "cell_type": "code",
   "execution_count": 474,
   "metadata": {},
   "outputs": [],
   "source": [
    "all_df = all_df.merge(\n",
    "    lat_lon_code[['Latitude (average)', 'Longitude (average)', 'Country', 'Alpha-2 code', 'Alpha-3 code']],\n",
    "    how='left',\n",
    "    left_on='ISO-A2',\n",
    "    right_on='Alpha-2 code',\n",
    ")\n",
    "\n",
    "all_df = all_df.melt(\n",
    "    id_vars=[\"Country\", \"ISO-A2\", \"Alpha-3 code\", \"Longitude (average)\", \"Latitude (average)\", 'Item', 'Item Code', 'Element', 'Unit'], \n",
    "    value_vars=make_year_cols(2000, 2021), \n",
    "    value_name='Quantity', \n",
    "    var_name='Year'\n",
    ")\n",
    "\n",
    "all_df['Year'] = all_df['Year'].str.strip('Y').astype(int)\n",
    "all_df['Quantity'] = all_df['Quantity'].replace({'': 0})\n",
    "all_df['Quantity'] = all_df['Quantity'].astype(float)\n",
    "all_df = all_df.rename(columns={\"Country\": \"Area\"})\n",
    "all_df.loc[:, 'Area'] = all_df['Area'].apply(lambda x: x if not x.endswith('of') and not x.endswith('of the') else ' '.join(x.split(', ')[::-1]))"
   ]
  },
  {
   "cell_type": "code",
   "execution_count": 475,
   "metadata": {},
   "outputs": [],
   "source": [
    "population = pd.read_csv('./data/population_by_country.csv')\n",
    "population = population.melt(\n",
    "    id_vars=['Country Name', 'Country Code'],\n",
    "    value_vars=[str(y) for y in range(2000, 2021)],\n",
    "    value_name='Population',\n",
    "    var_name='Year',\n",
    ")\n",
    "\n",
    "population['Year'] = population['Year'].astype(int)\n",
    "all_df = pd.merge(\n",
    "    all_df, population,\n",
    "    how='left',\n",
    "    left_on=['Alpha-3 code', 'Year'],\n",
    "    right_on=['Country Code', 'Year']\n",
    ")"
   ]
  },
  {
   "cell_type": "code",
   "execution_count": 476,
   "metadata": {},
   "outputs": [],
   "source": [
    "continent = pd.read_csv('./data/UNSD — Methodology.csv', sep=';', encoding='utf-8', keep_default_na=False)\n",
    "all_df = all_df.merge(\n",
    "    continent[['Region Name', 'ISO-alpha2 Code']],\n",
    "    how='left',\n",
    "    left_on='ISO-A2',\n",
    "    right_on='ISO-alpha2 Code'\n",
    ").rename(columns={'Region Name': 'Continent'}).drop(columns=['ISO-alpha2 Code'])"
   ]
  },
  {
   "cell_type": "markdown",
   "metadata": {},
   "source": [
    "# Codes"
   ]
  },
  {
   "cell_type": "code",
   "execution_count": 477,
   "metadata": {},
   "outputs": [],
   "source": [
    "codes = pd.read_csv('./data/cpc_codes.csv', encoding='ISO-8859-1', dtype={'CPC21code': str})"
   ]
  },
  {
   "cell_type": "code",
   "execution_count": 478,
   "metadata": {},
   "outputs": [],
   "source": [
    "code_to_type_lookup = {\n",
    "    '011': 'Cereals',\n",
    "    '012': 'Vegetables',\n",
    "    '013': 'Fruits and nuts',\n",
    "    '211': 'Meat and meat products',\n",
    "    '22': 'Dairy and egg'\n",
    "}\n",
    "\n",
    "manual_code_to_item = {\n",
    "    '211': ['Meat of camels, fresh or chilled', 'Meat of cattle with the bone, fresh or chilled', 'Meat of pig with the bone, fresh or chilled', 'Meat of asses, fresh or chilled', 'Meat of mules, fresh or chilled', 'Meat of other domestic camelids, fresh or chilled', 'Meat of other domestic rodents, fresh or chilled', 'Meat of pigeons and other birds n.e.c., fresh, chilled or frozen'] + ['Edible offal of cattle, fresh, chilled or frozen', 'Edible offal of goat, fresh, chilled or frozen', 'Edible offal of sheep, fresh, chilled or frozen', 'Edible offal of pigs, fresh, chilled or frozen', 'Edible offal of buffalo, fresh, chilled or frozen'],\n",
    "    '22': ['Raw milk of camel', 'Raw milk of cattle', 'Raw milk of goats', 'Raw milk of sheep', 'Raw milk of buffalo', 'Hen eggs in shell, fresh', 'Eggs from other birds in shell, fresh, n.e.c.'],\n",
    "}"
   ]
  },
  {
   "cell_type": "code",
   "execution_count": 479,
   "metadata": {},
   "outputs": [],
   "source": [
    "for code, code_type in code_to_type_lookup.items():\n",
    "    if code in manual_code_to_item:\n",
    "        all_df.loc[all_df['Item'].isin(manual_code_to_item[code]), 'Item Hierarchy Type'] = code_type\n",
    "    else:\n",
    "        all_item_types = codes[codes['CPC21code'].str.startswith(code)]['CPC21title']\n",
    "        all_df.loc[all_df['Item'].isin(all_item_types), 'Item Hierarchy Type'] = code_type"
   ]
  },
  {
   "cell_type": "code",
   "execution_count": 502,
   "metadata": {},
   "outputs": [
    {
     "data": {
      "text/plain": [
       "array(['Yield', 'Production', 'Laying', 'Milk Animals'], dtype=object)"
      ]
     },
     "execution_count": 502,
     "metadata": {},
     "output_type": "execute_result"
    }
   ],
   "source": [
    "all_df[all_df['Item Hierarchy Type'] == 'Dairy and egg']['Element'].unique()"
   ]
  },
  {
   "cell_type": "markdown",
   "metadata": {},
   "source": [
    "# check country name"
   ]
  },
  {
   "cell_type": "code",
   "execution_count": 24,
   "metadata": {},
   "outputs": [],
   "source": [
    "with open('./data/ne_110m.json', 'r') as f:\n",
    "    text = f.read()"
   ]
  },
  {
   "cell_type": "code",
   "execution_count": null,
   "metadata": {},
   "outputs": [],
   "source": [
    "for country_name in all_df['Area'].unique():\n",
    "    if text.find('\"NAME\":\"{}\"'.format(country_name)) == -1:\n",
    "        print(country_name)\n"
   ]
  },
  {
   "cell_type": "markdown",
   "metadata": {},
   "source": [
    "# wrangle file"
   ]
  },
  {
   "cell_type": "code",
   "execution_count": 506,
   "metadata": {},
   "outputs": [],
   "source": [
    "select_columns = [\n",
    "    'Area',\n",
    "    'ISO-A2',\n",
    "    'Item',\n",
    "    \"Quantity\",\n",
    "    \"Unit\",\n",
    "    'Latitude (average)',\n",
    "    'Longitude (average)',\n",
    "    'Continent',\n",
    "    'Year',\n",
    "    'Population',\n",
    "    'Item Hierarchy Type'\n",
    "]\n",
    "\n",
    "remove_if_null_in_subset = [\"ISO-A2\", \"Continent\", \"Quantity\", \"Item Hierarchy Type\"]"
   ]
  },
  {
   "cell_type": "code",
   "execution_count": 507,
   "metadata": {},
   "outputs": [],
   "source": [
    "df = all_df[\n",
    "    (all_df['Element'].isin(['Production']))\n",
    "].dropna(\n",
    "  axis=0,\n",
    "  how='any',\n",
    "  subset=remove_if_null_in_subset\n",
    ")[select_columns]\n",
    "\n",
    "df.to_csv('data/processed/production_major_categories_per_country_2000-2020.csv', index=False)"
   ]
  },
  {
   "cell_type": "code",
   "execution_count": 508,
   "metadata": {},
   "outputs": [],
   "source": [
    "df = all_df[\n",
    "    (all_df['Element'].str.startswith('Yield'))\n",
    "].dropna(\n",
    "  axis=0,\n",
    "  how='any',\n",
    "  subset=remove_if_null_in_subset\n",
    ")[select_columns]\n",
    "\n",
    "df.to_csv('data/processed/yield_major_categories_per_country_2000-2020.csv', index=False)"
   ]
  },
  {
   "cell_type": "code",
   "execution_count": 509,
   "metadata": {},
   "outputs": [],
   "source": [
    "df = all_df[\n",
    "    (all_df[\"Element\"] == \"Production\")\n",
    "].dropna(\n",
    "  axis=0,\n",
    "  how='any',\n",
    "  subset=remove_if_null_in_subset,\n",
    ").groupby([\"Item\", \"Year\", \"Unit\"])[[\"Quantity\"]]\\\n",
    " .sum()\\\n",
    " .reset_index()\n",
    "\n",
    "df.to_csv('./data/processed/production_all_category_2000_2020.csv', index=False)"
   ]
  }
 ],
 "metadata": {
  "kernelspec": {
   "display_name": "Python 3.9.12 ('base')",
   "language": "python",
   "name": "python3"
  },
  "language_info": {
   "codemirror_mode": {
    "name": "ipython",
    "version": 3
   },
   "file_extension": ".py",
   "mimetype": "text/x-python",
   "name": "python",
   "nbconvert_exporter": "python",
   "pygments_lexer": "ipython3",
   "version": "3.9.12"
  },
  "orig_nbformat": 4,
  "vscode": {
   "interpreter": {
    "hash": "83ba8c25ac7bdcad8fa6ab945f509c99c516dc83a4d0f1a4152a0c57e3660ca0"
   }
  }
 },
 "nbformat": 4,
 "nbformat_minor": 2
}
