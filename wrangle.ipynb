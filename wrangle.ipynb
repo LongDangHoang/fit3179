{
 "cells": [
  {
   "cell_type": "code",
   "execution_count": 200,
   "metadata": {},
   "outputs": [],
   "source": [
    "import pandas as pd\n",
    "import json\n",
    "\n",
    "pd.set_option('display.max_columns', None)\n",
    "all_df = pd.read_csv('./data/Production_Crops_Livestock_E_All_Data/Production_Crops_Livestock_E_All_Data_NOFLAG.csv', encoding=\"ISO-8859-1\")\n",
    "lat_lon_code = pd.read_csv('./data/world_country_and_usa_states_latitude_and_longitude_values.csv')\n",
    "continent = pd.read_csv('./data/UNSD — Methodology.csv', sep=';', encoding='utf-8')\n",
    "\n",
    "lat_lon_code = pd.read_csv('./data/world_country_and_usa_states_latitude_and_longitude_values.csv')\n",
    "lat_lon_code = lat_lon_code.sort_values(by=['Country']).drop_duplicates(subset=['Alpha-2 code'])\n",
    "lat_lon_code.loc[:, \"Numeric code\"] = lat_lon_code[\"Numeric code\"].str.strip(' \"').astype(int)\n",
    "lat_lon_code.loc[:, \"Alpha-2 code\"] = lat_lon_code[\"Alpha-2 code\"].str.strip(' \"')\n",
    "lat_lon_code.loc[:, \"Latitude (average)\"] = lat_lon_code[\"Latitude (average)\"].str.strip(' \"').astype(float)\n",
    "lat_lon_code.loc[:, \"Longitude (average)\"] = lat_lon_code[\"Longitude (average)\"].str.strip(' \"').astype(float)\n",
    "area_code_to_iso_dict = lat_lon_code[[\"Numeric code\", \"Alpha-2 code\"]].set_index(\"Numeric code\")['Alpha-2 code'].to_dict()\n",
    "\n",
    "all_df.loc[:, 'Area Code (M49)'] = all_df['Area Code (M49)'].str.strip(\" '\").astype(int)\n",
    "all_df.loc[:, 'ISO-A2'] = all_df['Area Code (M49)'].replace(area_code_to_iso_dict)\n",
    "all_df = all_df[all_df['ISO-A2'].isin(lat_lon_code['Alpha-2 code'])]\n",
    "\n",
    "def make_year_cols(start, end):\n",
    "    return [f'Y{y}' for y in range(start, end)]"
   ]
  },
  {
   "cell_type": "code",
   "execution_count": 201,
   "metadata": {},
   "outputs": [],
   "source": [
    "all_df = all_df.merge(\n",
    "    lat_lon_code[['Latitude (average)', 'Longitude (average)', 'Country', 'Alpha-2 code']],\n",
    "    how='left',\n",
    "    left_on='ISO-A2',\n",
    "    right_on='Alpha-2 code',\n",
    ")\n",
    "\n",
    "all_df = all_df.melt(\n",
    "    id_vars=['Country', 'ISO-A2', \"Longitude (average)\", \"Latitude (average)\", 'Item', 'Item Code', 'Element', 'Unit'], \n",
    "    value_vars=make_year_cols(2000, 2021), \n",
    "    value_name='Quantity', \n",
    "    var_name='Year'\n",
    ")\n",
    "\n",
    "all_df['Year'] = all_df['Year'].str.strip('Y').astype(int)\n",
    "all_df = all_df.rename(columns={\"Country\": \"Area\"})\n",
    "all_df.loc[:, 'Area'] = all_df['Area'].apply(lambda x: x if not x.endswith('of') and not x.endswith('of the') else ' '.join(x.split(', ')[::-1]))"
   ]
  },
  {
   "cell_type": "code",
   "execution_count": 202,
   "metadata": {},
   "outputs": [],
   "source": [
    "# population = population.melt(\n",
    "#     id_vars=['Country Name'],\n",
    "#     value_vars=[str(y) for y in range(2000, 2021)],\n",
    "#     value_name='Population',\n",
    "#     var_name='Year',\n",
    "# )\n",
    "\n",
    "# population['Year'] = population['Year'].astype(int)\n",
    "# all_df = pd.merge(\n",
    "#     all_df, population,\n",
    "#     how='left',\n",
    "#     left_on=['Area', 'Year'],\n",
    "#     right_on=['Country Name', 'Year']\n",
    "# )"
   ]
  },
  {
   "cell_type": "code",
   "execution_count": 203,
   "metadata": {},
   "outputs": [],
   "source": [
    "all_df = all_df.merge(\n",
    "    continent[['Region Name', 'ISO-alpha2 Code']],\n",
    "    how='left',\n",
    "    left_on='ISO-A2',\n",
    "    right_on='ISO-alpha2 Code'\n",
    ").rename(columns={'Region Name': 'Continent'}).drop(columns=['ISO-alpha2 Code'])"
   ]
  },
  {
   "cell_type": "markdown",
   "metadata": {},
   "source": [
    "# check country name"
   ]
  },
  {
   "cell_type": "code",
   "execution_count": 24,
   "metadata": {},
   "outputs": [],
   "source": [
    "with open('./data/ne_110m.json', 'r') as f:\n",
    "    text = f.read()"
   ]
  },
  {
   "cell_type": "code",
   "execution_count": null,
   "metadata": {},
   "outputs": [],
   "source": [
    "for country_name in all_df['Area'].unique():\n",
    "    if text.find('\"NAME\":\"{}\"'.format(country_name)) == -1:\n",
    "        print(country_name)\n"
   ]
  },
  {
   "cell_type": "markdown",
   "metadata": {},
   "source": [
    "# wrangle file"
   ]
  },
  {
   "cell_type": "code",
   "execution_count": 205,
   "metadata": {},
   "outputs": [],
   "source": [
    "df = all_df[\n",
    "    (all_df['Item'].str.endswith('Total')) &\\\n",
    "    (all_df['Element'].isin(['Production']))\n",
    "].dropna(\n",
    "  axis=0,\n",
    "  how='any',\n",
    ")\n",
    "\n",
    "df.to_csv('data/processed/production_major_categories_per_country_2000-2020.csv')"
   ]
  },
  {
   "cell_type": "code",
   "execution_count": 207,
   "metadata": {},
   "outputs": [],
   "source": [
    "df = all_df[\n",
    "    (all_df['Item'].str.endswith('Total')) &\\\n",
    "    (all_df['Element'].isin(['Yield']))\n",
    "].dropna(\n",
    "  axis=0,\n",
    "  how='any',\n",
    ")\n",
    "\n",
    "df.to_csv('data/processed/yield_major_categories_per_country_2000-2020.csv')"
   ]
  },
  {
   "cell_type": "code",
   "execution_count": 208,
   "metadata": {},
   "outputs": [],
   "source": [
    "df = all_df[\n",
    "    (~all_df['Item'].str.endswith('Total')) &\\\n",
    "    (all_df[\"Element\"] == \"Production\")\n",
    "].dropna(\n",
    "  axis=0,\n",
    "  how='any',\n",
    ").groupby([\"Item\", \"Year\", \"Unit\"])[[\"Quantity\"]]\\\n",
    " .sum()\\\n",
    " .reset_index()\n",
    "\n",
    "df.to_csv('./data/processed/production_all_category_2000_2020.csv')"
   ]
  },
  {
   "cell_type": "code",
   "execution_count": null,
   "metadata": {},
   "outputs": [],
   "source": [
    "1) CROPS PRIMARY:\n",
    "['Cereals',' Citrus Fruit',' Fibre Crops', 'Fruit', 'Oil Crops', 'Oil Crops and Cakes in Oil Equivalent',' Pulses',' Roots and Tubers',' Sugar Crops',' Treenuts and Vegetables']\n",
    "2) CROPS PROCESSED:\n",
    "Beer of barley; Cotton lint; Cottonseed; Margarine, short; Molasses; Oil, coconut (copra); Oil, cottonseed; Oil, groundnut; Oil, linseed; Oil, maize; Oil, olive, virgin; Oil, palm; Oil, palm kernel; Oil, rapeseed; Oil, safflower; Oil, sesame; Oil, soybean; Oil, sunflower; Palm kernels; Sugar Raw Centrifugal; Wine.\n",
    "3) LIVE ANIMALS: Animals live n.e.s.; Asses; Beehives; Buffaloes; Camelids, other; Camels; Cattle; Chickens; Ducks; Geese and guinea fowls; Goats; Horses; Mules; Pigeons, other birds; Pigs; Rabbits and hares; Rodents, other; Sheep; Turkeys.\n",
    "4) LIVESTOCK PRIMARY: Beeswax; Eggs (various types); Hides buffalo, fresh; Hides, cattle, fresh; Honey, natural; Meat (ass, bird nes, buffalo, camel, cattle, chicken, duck, game, goat, goose and guinea fowl, horse, mule, Meat nes, meat other camelids, Meat other rodents, pig, rabbit, sheep, turkey); Milk (buffalo, camel, cow, goat, sheep); Offals, nes; Silk-worm cocoons, reelable; Skins (goat, sheep); Snails, not sea; Wool, greasy.\n",
    "5) LIVESTOCK PROCESSED: Butter (of milk from sheep, goat, buffalo, cow); Cheese (of milk from goat, buffalo, sheep, cow milk); Cheese of skimmed cow milk; Cream fresh; Ghee (cow and buffalo milk); Lard; Milk (dry buttermilk, skimmed condensed, skimmed cow, skimmed dried, skimmed evaporated, whole condensed, whole dried, whole evaporated); Silk raw; Tallow; Whey (condensed and dry); Yoghurt"
   ]
  },
  {
   "cell_type": "code",
   "execution_count": 57,
   "metadata": {},
   "outputs": [],
   "source": [
    "import json\n",
    "with open('./data/ne_110m_admin_0_countries.topojson', 'r', encoding=\"ISO-8859-1\") as f:\n",
    "    x = json.load(f)"
   ]
  },
  {
   "cell_type": "code",
   "execution_count": 58,
   "metadata": {},
   "outputs": [],
   "source": [
    "f = [geom['properties']['NAME'] for geom in x['objects']['ne_110m_admin_0_countries']['geometries']]"
   ]
  },
  {
   "cell_type": "code",
   "execution_count": 59,
   "metadata": {},
   "outputs": [
    {
     "data": {
      "text/plain": [
       "{'Antarctica',\n",
       " \"CÃ´te d'Ivoire\",\n",
       " 'Falkland Is.',\n",
       " 'Fr. S. Antarctic Lands',\n",
       " 'Greenland',\n",
       " 'Kosovo',\n",
       " 'Macedonia',\n",
       " 'N. Cyprus',\n",
       " 'S. Sudan',\n",
       " 'Somaliland',\n",
       " 'W. Sahara',\n",
       " 'eSwatini'}"
      ]
     },
     "execution_count": 59,
     "metadata": {},
     "output_type": "execute_result"
    }
   ],
   "source": [
    "set(f).difference(set(all_df[\"Area\"]))"
   ]
  },
  {
   "cell_type": "code",
   "execution_count": 45,
   "metadata": {},
   "outputs": [
    {
     "ename": "ValueError",
     "evalue": "I/O operation on closed file.",
     "output_type": "error",
     "traceback": [
      "\u001b[1;31m---------------------------------------------------------------------------\u001b[0m",
      "\u001b[1;31mValueError\u001b[0m                                Traceback (most recent call last)",
      "\u001b[1;32mc:\\Users\\hoang\\Documents\\Uni\\FIT3179\\Assignment 2\\wrangle.ipynb Cell 17\u001b[0m in \u001b[0;36m<cell line: 1>\u001b[1;34m()\u001b[0m\n\u001b[1;32m----> <a href='vscode-notebook-cell:/c%3A/Users/hoang/Documents/Uni/FIT3179/Assignment%202/wrangle.ipynb#X30sZmlsZQ%3D%3D?line=0'>1</a>\u001b[0m \u001b[39mset\u001b[39;49m(f)\n",
      "\u001b[1;31mValueError\u001b[0m: I/O operation on closed file."
     ]
    }
   ],
   "source": [
    "set(f)"
   ]
  },
  {
   "cell_type": "code",
   "execution_count": 69,
   "metadata": {},
   "outputs": [
    {
     "data": {
      "text/plain": [
       "array(['Eggs Primary', 'Fruit Primary', 'Sugar Crops Primary',\n",
       "       'Vegetables Primary'], dtype=object)"
      ]
     },
     "execution_count": 69,
     "metadata": {},
     "output_type": "execute_result"
    }
   ],
   "source": [
    "all_df[all_df['Item'].str.endswith('Primary')][\"Item\"].unique()"
   ]
  },
  {
   "cell_type": "code",
   "execution_count": null,
   "metadata": {},
   "outputs": [],
   "source": []
  }
 ],
 "metadata": {
  "kernelspec": {
   "display_name": "Python 3.9.12 ('base')",
   "language": "python",
   "name": "python3"
  },
  "language_info": {
   "codemirror_mode": {
    "name": "ipython",
    "version": 3
   },
   "file_extension": ".py",
   "mimetype": "text/x-python",
   "name": "python",
   "nbconvert_exporter": "python",
   "pygments_lexer": "ipython3",
   "version": "3.9.12"
  },
  "orig_nbformat": 4,
  "vscode": {
   "interpreter": {
    "hash": "83ba8c25ac7bdcad8fa6ab945f509c99c516dc83a4d0f1a4152a0c57e3660ca0"
   }
  }
 },
 "nbformat": 4,
 "nbformat_minor": 2
}
