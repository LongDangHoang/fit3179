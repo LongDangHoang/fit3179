{
 "cells": [
  {
   "cell_type": "code",
   "execution_count": 62,
   "metadata": {},
   "outputs": [],
   "source": [
    "import pandas as pd\n",
    "\n",
    "pd.set_option('display.max_columns', None)\n",
    "all_df = pd.read_csv('./data/Production_Crops_Livestock_E_All_Data/Production_Crops_Livestock_E_All_Data_NOFLAG.csv', encoding=\"ISO-8859-1\")\n",
    "area_code_df = pd.read_csv('./data/Production_Crops_Livestock_E_All_Data/Production_Crops_Livestock_E_AreaCodes.csv')\n",
    "\n",
    "code_to_name_dict = area_code_df[['Area Code', 'Area']].set_index('Area Code').to_dict()['Area']\n",
    "all_df.loc[:, 'Area'] = all_df['Area Code'].replace(code_to_name_dict)\n",
    "lat_lon = pd.read_csv('./data/world_country_and_usa_states_latitude_and_longitude_values.csv')\n",
    "population = pd.read_csv('./data/population_by_country.csv')\n",
    "\n",
    "def make_year_cols(start, end):\n",
    "    return [f'Y{y}' for y in range(start, end)]"
   ]
  },
  {
   "cell_type": "code",
   "execution_count": 63,
   "metadata": {},
   "outputs": [],
   "source": [
    "all_df = all_df.merge(\n",
    "    lat_lon[['latitude', 'longitude', 'country']],\n",
    "    how='left',\n",
    "    left_on='Area',\n",
    "    right_on='country',\n",
    ")\n",
    "\n",
    "all_df = all_df.melt(\n",
    "    id_vars=['Area', 'Area Code', \"longitude\", \"latitude\", 'Item', 'Element', 'Unit'], \n",
    "    value_vars=make_year_cols(2000, 2021), \n",
    "    value_name='Quantity', \n",
    "    var_name='Year'\n",
    ")\n",
    "\n",
    "all_df['Year'] = all_df['Year'].str.strip('Y').astype(int)"
   ]
  },
  {
   "cell_type": "code",
   "execution_count": 64,
   "metadata": {},
   "outputs": [],
   "source": [
    "population = population.melt(\n",
    "    id_vars=['Country Name'],\n",
    "    value_vars=[str(y) for y in range(2000, 2021)],\n",
    "    value_name='Population',\n",
    "    var_name='Year',\n",
    ")\n",
    "\n",
    "population['Year'] = population['Year'].astype(int)"
   ]
  },
  {
   "cell_type": "code",
   "execution_count": 65,
   "metadata": {},
   "outputs": [],
   "source": [
    "all_df = pd.merge(\n",
    "    all_df, population,\n",
    "    how='left',\n",
    "    left_on=['Area', 'Year'],\n",
    "    right_on=['Country Name', 'Year']\n",
    ")"
   ]
  },
  {
   "cell_type": "markdown",
   "metadata": {},
   "source": [
    "# check country name"
   ]
  },
  {
   "cell_type": "code",
   "execution_count": 24,
   "metadata": {},
   "outputs": [],
   "source": [
    "with open('./data/ne_110m.json', 'r') as f:\n",
    "    text = f.read()"
   ]
  },
  {
   "cell_type": "code",
   "execution_count": null,
   "metadata": {},
   "outputs": [],
   "source": [
    "for country_name in all_df['Area'].unique():\n",
    "    if text.find('\"NAME\":\"{}\"'.format(country_name)) == -1:\n",
    "        print(country_name)\n"
   ]
  },
  {
   "cell_type": "markdown",
   "metadata": {},
   "source": [
    "# wrangle file"
   ]
  },
  {
   "cell_type": "code",
   "execution_count": 68,
   "metadata": {},
   "outputs": [],
   "source": [
    "df = all_df[\n",
    "    (all_df['Item'].str.endswith('Total')) &\\\n",
    "    (all_df['Area Code'] <= 300) &\\\n",
    "    (all_df['Element'].isin(['Production']))\n",
    "].dropna(\n",
    "  axis=0,\n",
    "  how='any',\n",
    "  subset=['latitude', 'longitude', 'Population']\n",
    ")\n",
    "\n",
    "df.to_csv('data/processed/production_major_categories_per_country_2000-2020.csv')"
   ]
  }
 ],
 "metadata": {
  "kernelspec": {
   "display_name": "Python 3.9.12 ('base')",
   "language": "python",
   "name": "python3"
  },
  "language_info": {
   "codemirror_mode": {
    "name": "ipython",
    "version": 3
   },
   "file_extension": ".py",
   "mimetype": "text/x-python",
   "name": "python",
   "nbconvert_exporter": "python",
   "pygments_lexer": "ipython3",
   "version": "3.9.12"
  },
  "orig_nbformat": 4,
  "vscode": {
   "interpreter": {
    "hash": "83ba8c25ac7bdcad8fa6ab945f509c99c516dc83a4d0f1a4152a0c57e3660ca0"
   }
  }
 },
 "nbformat": 4,
 "nbformat_minor": 2
}
