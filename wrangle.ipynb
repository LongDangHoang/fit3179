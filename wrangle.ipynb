{
 "cells": [
  {
   "cell_type": "code",
   "execution_count": 1,
   "metadata": {},
   "outputs": [],
   "source": [
    "import pandas as pd\n",
    "\n",
    "pd.set_option('display.max_columns', None)\n",
    "all_df = pd.read_csv('./data/Production_Crops_Livestock_E_All_Data/Production_Crops_Livestock_E_All_Data_NOFLAG.csv', encoding=\"ISO-8859-1\")\n",
    "area_code_df = pd.read_csv('./data/Production_Crops_Livestock_E_All_Data/Production_Crops_Livestock_E_AreaCodes.csv')\n",
    "\n",
    "code_to_name_dict = area_code_df[['Area Code', 'Area']].set_index('Area Code').to_dict()['Area']\n",
    "all_df.loc[:, 'Area'] = all_df['Area Code'].replace(code_to_name_dict)\n",
    "lat_lon = pd.read_csv('./data/world_country_and_usa_states_latitude_and_longitude_values.csv')"
   ]
  },
  {
   "cell_type": "code",
   "execution_count": 2,
   "metadata": {},
   "outputs": [],
   "source": [
    "all_df = all_df.merge(\n",
    "    lat_lon[['latitude', 'longitude', 'country']],\n",
    "    how='left',\n",
    "    left_on='Area',\n",
    "    right_on='country',\n",
    ")"
   ]
  },
  {
   "cell_type": "markdown",
   "metadata": {},
   "source": [
    "# check country name"
   ]
  },
  {
   "cell_type": "code",
   "execution_count": 24,
   "metadata": {},
   "outputs": [],
   "source": [
    "with open('./data/ne_110m.json', 'r') as f:\n",
    "    text = f.read()"
   ]
  },
  {
   "cell_type": "code",
   "execution_count": 25,
   "metadata": {},
   "outputs": [
    {
     "name": "stdout",
     "output_type": "stream",
     "text": [
      "Antigua and Barbuda\n",
      "Bahrain\n",
      "Barbados\n",
      "Belgium-Luxembourg\n",
      "Cabo Verde\n",
      "China; (including Taiwan)\n",
      "China; Hong Kong SAR\n",
      "China; Macao SAR\n",
      "Comoros\n",
      "Cook Islands\n",
      "Czechoslovakia\n",
      "Dominica\n",
      "Eswatini\n",
      "Ethiopia PDR\n",
      "Faroe Islands\n",
      "French Guyana\n",
      "French Polynesia\n",
      "Grenada\n",
      "Guadeloupe\n",
      "Kiribati\n",
      "Maldives\n",
      "Malta\n",
      "Marshall Islands\n",
      "Martinique\n",
      "Mauritius\n",
      "Micronesia (Federated States of)\n",
      "Nauru\n",
      "Niue\n",
      "R�union\n",
      "Saint Kitts and Nevis\n",
      "Saint Lucia\n",
      "Saint Vincent and the Grenadines\n",
      "Samoa\n",
      "Sao Tome and Principe\n",
      "Serbia and Montenegro\n",
      "Seychelles\n",
      "Singapore\n",
      "South Sudan\n",
      "Sudan (former)\n",
      "Tokelau\n",
      "Tonga\n",
      "Tuvalu\n",
      "USSR\n",
      "Yugoslav SFR\n",
      "World\n",
      "Africa\n",
      "Eastern Africa\n",
      "Middle Africa\n",
      "Northern Africa\n",
      "Southern Africa\n",
      "Western Africa\n",
      "Americas\n",
      "Northern America\n",
      "Central America\n",
      "Caribbean\n",
      "South America\n",
      "Asia\n",
      "Central Asia\n",
      "Eastern Asia\n",
      "Southern Asia\n",
      "South-eastern Asia\n",
      "Western Asia\n",
      "Europe\n",
      "Eastern Europe\n",
      "Northern Europe\n",
      "Southern Europe\n",
      "Western Europe\n",
      "Oceania\n",
      "Australia and New Zealand\n",
      "Melanesia\n",
      "Micronesia\n",
      "Polynesia\n",
      "European Union (27)\n",
      "Least Developed Countries\n",
      "Land Locked Developing Countries\n",
      "Small Island Developing States\n",
      "Low Income Food Deficit Countries\n",
      "Net Food Importing Developing Countries\n"
     ]
    }
   ],
   "source": [
    "for country_name in all_df['Area'].unique():\n",
    "    if text.find('\"NAME\":\"{}\"'.format(country_name)) == -1:\n",
    "        print(country_name)\n"
   ]
  },
  {
   "cell_type": "markdown",
   "metadata": {},
   "source": [
    "# wrangle file"
   ]
  },
  {
   "cell_type": "markdown",
   "metadata": {},
   "source": [
    "Map of productiono of cereal"
   ]
  },
  {
   "cell_type": "code",
   "execution_count": 7,
   "metadata": {},
   "outputs": [],
   "source": [
    "all_df[\n",
    "    (all_df['Item Code'] == 1717) &\\\n",
    "    (all_df['Area Code'] <= 300) &\\\n",
    "    (all_df['Element'] == 'Yield')\n",
    "][\n",
    "    ['Area', \"longitude\", \"latitude\", 'Item', 'Element', 'Unit', 'Y2015', 'Y2016', 'Y2017', 'Y2018', 'Y2019', 'Y2020']\n",
    "].dropna(axis=0, how='any', subset=['latitude', 'longitude'])\\\n",
    ".to_csv(\"./data/processed/cereal_yield_per_country_2015-2020.csv\")"
   ]
  },
  {
   "cell_type": "code",
   "execution_count": 8,
   "metadata": {},
   "outputs": [],
   "source": [
    "all_df[\n",
    "    (all_df['Item Code'] == 1717) &\\\n",
    "    (all_df['Area Code'] <= 300) &\\\n",
    "    (all_df['Element'] == 'Production')\n",
    "][\n",
    "    ['Area', \"longitude\", \"latitude\", 'Item', 'Element', 'Unit', 'Y2015', 'Y2016', 'Y2017', 'Y2018', 'Y2019', 'Y2020']\n",
    "].dropna(axis=0, how='any', subset=['latitude', 'longitude']).to_csv(\"./data/processed/cereal_production_per_country_2015-2020.csv\")"
   ]
  }
 ],
 "metadata": {
  "kernelspec": {
   "display_name": "Python 3.9.12 ('base')",
   "language": "python",
   "name": "python3"
  },
  "language_info": {
   "codemirror_mode": {
    "name": "ipython",
    "version": 3
   },
   "file_extension": ".py",
   "mimetype": "text/x-python",
   "name": "python",
   "nbconvert_exporter": "python",
   "pygments_lexer": "ipython3",
   "version": "3.9.12"
  },
  "orig_nbformat": 4,
  "vscode": {
   "interpreter": {
    "hash": "83ba8c25ac7bdcad8fa6ab945f509c99c516dc83a4d0f1a4152a0c57e3660ca0"
   }
  }
 },
 "nbformat": 4,
 "nbformat_minor": 2
}
